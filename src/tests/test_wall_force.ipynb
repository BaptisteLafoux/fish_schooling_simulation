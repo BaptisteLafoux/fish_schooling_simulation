{
 "cells": [
  {
   "cell_type": "code",
   "execution_count": 1,
   "metadata": {},
   "outputs": [],
   "source": [
    "import numpy as np \n",
    "import matplotlib.pyplot as plt \n",
    "%matplotlib widget\n",
    "import config\n",
    "\n",
    "import sys \n",
    "sys.path.append('..')\n",
    "\n",
    "N = 3\n",
    "\n",
    "from constants import *\n",
    "from simulation import Simulation\n",
    "from step import Step"
   ]
  },
  {
   "cell_type": "code",
   "execution_count": 2,
   "metadata": {},
   "outputs": [
    {
     "ename": "ValueError",
     "evalue": "could not broadcast input array from shape (2,) into shape (3,)",
     "output_type": "error",
     "traceback": [
      "\u001b[0;31m---------------------------------------------------------------------------\u001b[0m",
      "\u001b[0;31mValueError\u001b[0m                                Traceback (most recent call last)",
      "\u001b[1;32m/Users/baptistelafoux/Google Drive/Pro/2020_PMMH_thèse_fish/1_Code/collective_motion_simulation/src/unit_tests/test_wall_force.ipynb Cell 2\u001b[0m line \u001b[0;36m1\n\u001b[1;32m      <a href='vscode-notebook-cell:/Users/baptistelafoux/Google%20Drive/Pro/2020_PMMH_th%C3%A8se_fish/1_Code/collective_motion_simulation/src/unit_tests/test_wall_force.ipynb#W1sZmlsZQ%3D%3D?line=0'>1</a>\u001b[0m \u001b[39m# V = np.random.uniform(-1, 1, (2, N))\u001b[39;00m\n\u001b[1;32m      <a href='vscode-notebook-cell:/Users/baptistelafoux/Google%20Drive/Pro/2020_PMMH_th%C3%A8se_fish/1_Code/collective_motion_simulation/src/unit_tests/test_wall_force.ipynb#W1sZmlsZQ%3D%3D?line=1'>2</a>\u001b[0m \u001b[39m# V[0] = np.array([0, 0.6, -0.2, -0.3])\u001b[39;00m\n\u001b[1;32m      <a href='vscode-notebook-cell:/Users/baptistelafoux/Google%20Drive/Pro/2020_PMMH_th%C3%A8se_fish/1_Code/collective_motion_simulation/src/unit_tests/test_wall_force.ipynb#W1sZmlsZQ%3D%3D?line=2'>3</a>\u001b[0m \u001b[39m# V[1] = np.array([0.5, -0.05, 1, 1])\u001b[39;00m\n\u001b[0;32m   (...)\u001b[0m\n\u001b[1;32m      <a href='vscode-notebook-cell:/Users/baptistelafoux/Google%20Drive/Pro/2020_PMMH_th%C3%A8se_fish/1_Code/collective_motion_simulation/src/unit_tests/test_wall_force.ipynb#W1sZmlsZQ%3D%3D?line=5'>6</a>\u001b[0m \u001b[39m# X[0] = np.array([1, 1.6, 1, 1])\u001b[39;00m\n\u001b[1;32m      <a href='vscode-notebook-cell:/Users/baptistelafoux/Google%20Drive/Pro/2020_PMMH_th%C3%A8se_fish/1_Code/collective_motion_simulation/src/unit_tests/test_wall_force.ipynb#W1sZmlsZQ%3D%3D?line=6'>7</a>\u001b[0m \u001b[39m# X[1] = np.array([1, 0.3, 1.7, 2])\u001b[39;00m\n\u001b[1;32m      <a href='vscode-notebook-cell:/Users/baptistelafoux/Google%20Drive/Pro/2020_PMMH_th%C3%A8se_fish/1_Code/collective_motion_simulation/src/unit_tests/test_wall_force.ipynb#W1sZmlsZQ%3D%3D?line=8'>9</a>\u001b[0m V \u001b[39m=\u001b[39m np\u001b[39m.\u001b[39mrandom\u001b[39m.\u001b[39muniform(\u001b[39m-\u001b[39m\u001b[39m1\u001b[39m, \u001b[39m1\u001b[39m, (\u001b[39m2\u001b[39m, N))\n\u001b[0;32m---> <a href='vscode-notebook-cell:/Users/baptistelafoux/Google%20Drive/Pro/2020_PMMH_th%C3%A8se_fish/1_Code/collective_motion_simulation/src/unit_tests/test_wall_force.ipynb#W1sZmlsZQ%3D%3D?line=9'>10</a>\u001b[0m V[\u001b[39m1\u001b[39;49m] \u001b[39m=\u001b[39m np\u001b[39m.\u001b[39marray([\u001b[39m0.5\u001b[39m, \u001b[39m-\u001b[39m\u001b[39m0.6\u001b[39m])\n\u001b[1;32m     <a href='vscode-notebook-cell:/Users/baptistelafoux/Google%20Drive/Pro/2020_PMMH_th%C3%A8se_fish/1_Code/collective_motion_simulation/src/unit_tests/test_wall_force.ipynb#W1sZmlsZQ%3D%3D?line=10'>11</a>\u001b[0m V[\u001b[39m0\u001b[39m] \u001b[39m=\u001b[39m \u001b[39m-\u001b[39mnp\u001b[39m.\u001b[39marray([\u001b[39m0.5\u001b[39m, \u001b[39m0.6\u001b[39m])\n\u001b[1;32m     <a href='vscode-notebook-cell:/Users/baptistelafoux/Google%20Drive/Pro/2020_PMMH_th%C3%A8se_fish/1_Code/collective_motion_simulation/src/unit_tests/test_wall_force.ipynb#W1sZmlsZQ%3D%3D?line=12'>13</a>\u001b[0m X \u001b[39m=\u001b[39m np\u001b[39m.\u001b[39mzeros_like(V) \n",
      "\u001b[0;31mValueError\u001b[0m: could not broadcast input array from shape (2,) into shape (3,)"
     ]
    }
   ],
   "source": [
    "# V = np.random.uniform(-1, 1, (2, N))\n",
    "# V[0] = np.array([0, 0.6, -0.2, -0.3])\n",
    "# V[1] = np.array([0.5, -0.05, 1, 1])\n",
    "\n",
    "# X = np.zeros_like(V) \n",
    "# X[0] = np.array([1, 1.6, 1, 1])\n",
    "# X[1] = np.array([1, 0.3, 1.7, 2])\n",
    "\n",
    "V = np.random.uniform(-1, 1, (2, N))\n",
    "V[1] = np.array([0.5, -0.6])\n",
    "V[0] = -np.array([0.5, 0.6])\n",
    "\n",
    "X = np.zeros_like(V) \n",
    "X[0] = np.array([1.61, 4])\n",
    "X[1] = np.array([3, 4])\n",
    "\n",
    "step = Step(X, V, params=dict(N=N, tau=1, Ra=2, phi=200, v0=1, R=12, J=1, eps=0, a=1, b=0))\n",
    "fig, ax = plt.subplots()\n",
    "\n",
    "ax.add_patch(plt.Rectangle((0, 0), W, H, fc='none', ec='k'))\n",
    "ax.quiver(*X, *V, angles='xy', scale_units='xy', scale=1)\n",
    "ax.scatter(*X)\n",
    "\n",
    "fwall = step.get_wall_force()\n",
    "ax.quiver(*X, *fwall, angles='xy', scale_units='xy', scale=1, color='r')\n",
    "\n",
    "fal = step.get_alignment_force()\n",
    "ax.quiver(*X, *fal, angles='xy', scale_units='xy', scale=1, color='b')\n",
    "\n",
    "fatt = step.get_attraction_force()\n",
    "ax.quiver(*X, *fatt, angles='xy', scale_units='xy', scale=1, color='g')\n",
    "\n",
    "fprop = step.get_propulsion_force()\n",
    "ax.quiver(*X, *fprop, angles='xy', scale_units='xy', scale=1, color='c')\n",
    "\n",
    "# ax.add_patch(plt.Rectangle((0, 0), W, H, fc='none', ec='k'))\n",
    "ax.axis('equal')\n",
    "ax.axis([0, H, 0, W])\n",
    "\n",
    "\n",
    "\n"
   ]
  },
  {
   "cell_type": "code",
   "execution_count": 3,
   "metadata": {},
   "outputs": [
    {
     "ename": "NameError",
     "evalue": "name 'fatt' is not defined",
     "output_type": "error",
     "traceback": [
      "\u001b[0;31m---------------------------------------------------------------------------\u001b[0m",
      "\u001b[0;31mNameError\u001b[0m                                 Traceback (most recent call last)",
      "\u001b[1;32m/Users/baptistelafoux/Google Drive/Pro/2020_PMMH_thèse_fish/1_Code/collective_motion_simulation/src/unit_tests/test_wall_force.ipynb Cell 3\u001b[0m line \u001b[0;36m1\n\u001b[0;32m----> <a href='vscode-notebook-cell:/Users/baptistelafoux/Google%20Drive/Pro/2020_PMMH_th%C3%A8se_fish/1_Code/collective_motion_simulation/src/unit_tests/test_wall_force.ipynb#W2sZmlsZQ%3D%3D?line=0'>1</a>\u001b[0m fatt\n",
      "\u001b[0;31mNameError\u001b[0m: name 'fatt' is not defined"
     ]
    }
   ],
   "source": [
    "fatt"
   ]
  },
  {
   "cell_type": "code",
   "execution_count": 4,
   "metadata": {},
   "outputs": [
    {
     "ename": "NameError",
     "evalue": "name 'step' is not defined",
     "output_type": "error",
     "traceback": [
      "\u001b[0;31m---------------------------------------------------------------------------\u001b[0m",
      "\u001b[0;31mNameError\u001b[0m                                 Traceback (most recent call last)",
      "\u001b[1;32m/Users/baptistelafoux/Google Drive/Pro/2020_PMMH_thèse_fish/1_Code/collective_motion_simulation/src/unit_tests/test_wall_force.ipynb Cell 4\u001b[0m line \u001b[0;36m1\n\u001b[0;32m----> <a href='vscode-notebook-cell:/Users/baptistelafoux/Google%20Drive/Pro/2020_PMMH_th%C3%A8se_fish/1_Code/collective_motion_simulation/src/unit_tests/test_wall_force.ipynb#W3sZmlsZQ%3D%3D?line=0'>1</a>\u001b[0m \u001b[39mself\u001b[39m \u001b[39m=\u001b[39m step \n\u001b[1;32m      <a href='vscode-notebook-cell:/Users/baptistelafoux/Google%20Drive/Pro/2020_PMMH_th%C3%A8se_fish/1_Code/collective_motion_simulation/src/unit_tests/test_wall_force.ipynb#W3sZmlsZQ%3D%3D?line=2'>3</a>\u001b[0m thetaij \u001b[39m=\u001b[39m np\u001b[39m.\u001b[39mabs(np\u001b[39m.\u001b[39marccos(np\u001b[39m.\u001b[39meinsum(\u001b[39m\"\u001b[39m\u001b[39mim,inm->mn\u001b[39m\u001b[39m\"\u001b[39m, \n\u001b[1;32m      <a href='vscode-notebook-cell:/Users/baptistelafoux/Google%20Drive/Pro/2020_PMMH_th%C3%A8se_fish/1_Code/collective_motion_simulation/src/unit_tests/test_wall_force.ipynb#W3sZmlsZQ%3D%3D?line=3'>4</a>\u001b[0m                                                   \u001b[39mself\u001b[39m\u001b[39m.\u001b[39mV \u001b[39m/\u001b[39m \u001b[39mself\u001b[39m\u001b[39m.\u001b[39mVnorm, \u001b[39m-\u001b[39m\u001b[39mself\u001b[39m\u001b[39m.\u001b[39mXij \u001b[39m/\u001b[39m \u001b[39mself\u001b[39m\u001b[39m.\u001b[39mrij)))\n\u001b[1;32m      <a href='vscode-notebook-cell:/Users/baptistelafoux/Google%20Drive/Pro/2020_PMMH_th%C3%A8se_fish/1_Code/collective_motion_simulation/src/unit_tests/test_wall_force.ipynb#W3sZmlsZQ%3D%3D?line=5'>6</a>\u001b[0m np\u001b[39m.\u001b[39mfill_diagonal(thetaij, \u001b[39m0\u001b[39m) \n",
      "\u001b[0;31mNameError\u001b[0m: name 'step' is not defined"
     ]
    }
   ],
   "source": [
    "self = step \n",
    "\n",
    "thetaij = np.abs(np.arccos(np.einsum(\"im,inm->mn\", \n",
    "                                                  self.V / self.Vnorm, -self.Xij / self.rij)))\n",
    "\n",
    "np.fill_diagonal(thetaij, 0) \n",
    "thetaij"
   ]
  },
  {
   "cell_type": "code",
   "execution_count": 5,
   "metadata": {},
   "outputs": [
    {
     "data": {
      "text/plain": [
       "(0.0, 2.0, 0.0, 2.0)"
      ]
     },
     "execution_count": 5,
     "metadata": {},
     "output_type": "execute_result"
    },
    {
     "data": {
      "application/vnd.jupyter.widget-view+json": {
       "model_id": "804b197a183742bb84cba3e779c27e24",
       "version_major": 2,
       "version_minor": 0
      },
      "image/png": "[encoded data removed]",
      "text/html": [
       "\n",
       "            <div style=\"display: inline-block;\">\n",
       "                <div class=\"jupyter-widgets widget-label\" style=\"text-align: center;\">\n",
       "                    Figure\n",
       "                </div>\n",
       "                <img src='data:image/png;base64,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' width=400.0/>\n",
       "            </div>\n",
       "        "
      ],
      "text/plain": [
       "Canvas(toolbar=Toolbar(toolitems=[('Home', 'Reset original view', 'home', 'home'), ('Back', 'Back to previous …"
      ]
     },
     "metadata": {},
     "output_type": "display_data"
    }
   ],
   "source": [
    "V = np.random.uniform(-1, 1, (2, N))\n",
    "\n",
    "\n",
    "V[0] = np.array([-0.2, 0, 0.6])\n",
    "V[1] = np.array([0, -1, 0])\n",
    "\n",
    "Vnorm = np.linalg.norm(V, axis=0)\n",
    "\n",
    "H = 2\n",
    "W = 2\n",
    "\n",
    "X = np.zeros_like(V) \n",
    "X[0] = np.array([0.3, 1, 1.6])\n",
    "X[1] = 2 - np.array([0.3, 0.3, 0.3])\n",
    "\n",
    "fig, ax = plt.subplots()\n",
    "ax.quiver(X[0], X[1], V[0], V[1], angles='xy', scale_units='xy', scale=1)\n",
    "ax.scatter(X[0], X[1])\n",
    "\n",
    "dN = H - X[1] \n",
    "dS = X[1] \n",
    "dE = W - X[0] \n",
    "dW = X[0]\n",
    "\n",
    "\n",
    "nN = np.r_[0,  1]\n",
    "nS = np.r_[0, -1]\n",
    "nE = np.r_[ 1, 0]\n",
    "nW = np.r_[-1, 0]\n",
    "\n",
    "FN = ((- np.maximum((1 / dN - 1 / delta), 0) * nN[..., None]).T * np.maximum(np.dot((V / Vnorm).T, nN[..., None]), 0)).T /10\n",
    "\n",
    "FS = ((- np.maximum((1 / dS - 1 / delta), 0) * nS[..., None]).T * np.maximum(np.dot((V / Vnorm).T, nS[..., None]), 0)).T /10\n",
    "\n",
    "FE = ((- np.maximum((1 / dE - 1 / delta), 0) * nE[..., None]).T * np.maximum(np.dot((V / Vnorm).T, nE[..., None]), 0)).T /10\n",
    "\n",
    "FW = ((- np.maximum((1 / dW - 1 / delta), 0) * nW[..., None]).T * np.maximum(np.dot((V / Vnorm).T, nW[..., None]), 0)).T /10\n",
    "\n",
    "ax.quiver(X[0], X[1], FS[0], FS[1], angles='xy', scale_units='xy', scale=1, color='r')\n",
    "ax.quiver(X[0], X[1], FN[0], FN[1], angles='xy', scale_units='xy', scale=1, color='g')\n",
    "ax.quiver(X[0], X[1], FE[0], FE[1], angles='xy', scale_units='xy', scale=1, color='b')\n",
    "ax.quiver(X[0], X[1], FW[0], FW[1], angles='xy', scale_units='xy', scale=1, color='y')\n",
    "\n",
    "ax.add_patch(plt.Rectangle((0, 0), W, H, fc='none', ec='k'))\n",
    "ax.axis('equal')\n",
    "ax.axis([0, H, 0, W])\n",
    "\n",
    "\n",
    "\n"
   ]
  },
  {
   "cell_type": "code",
   "execution_count": 8,
   "metadata": {},
   "outputs": [
    {
     "data": {
      "text/plain": [
       "(2, 2)"
      ]
     },
     "execution_count": 8,
     "metadata": {},
     "output_type": "execute_result"
    }
   ],
   "source": [
    "X.shape"
   ]
  },
  {
   "cell_type": "code",
   "execution_count": 9,
   "metadata": {},
   "outputs": [
    {
     "ename": "NameError",
     "evalue": "name 'dN' is not defined",
     "output_type": "error",
     "traceback": [
      "\u001b[0;31m---------------------------------------------------------------------------\u001b[0m",
      "\u001b[0;31mNameError\u001b[0m                                 Traceback (most recent call last)",
      "\u001b[1;32m/Users/baptistelafoux/Google Drive/Pro/2020_PMMH_thèse_fish/1_Code/collective_motion_simulation/src/unit_tests/test_wall_force.ipynb Cell 7\u001b[0m line \u001b[0;36m1\n\u001b[0;32m----> <a href='vscode-notebook-cell:/Users/baptistelafoux/Google%20Drive/Pro/2020_PMMH_th%C3%A8se_fish/1_Code/collective_motion_simulation/src/unit_tests/test_wall_force.ipynb#W6sZmlsZQ%3D%3D?line=0'>1</a>\u001b[0m (\u001b[39m-\u001b[39m np\u001b[39m.\u001b[39mmaximum((\u001b[39m1\u001b[39m \u001b[39m/\u001b[39m dN \u001b[39m-\u001b[39m \u001b[39m1\u001b[39m \u001b[39m/\u001b[39m delta), \u001b[39m0\u001b[39m) \u001b[39m*\u001b[39m nN[\u001b[39m.\u001b[39m\u001b[39m.\u001b[39m\u001b[39m.\u001b[39m, \u001b[39mNone\u001b[39;00m])\u001b[39m.\u001b[39mshape\n",
      "\u001b[0;31mNameError\u001b[0m: name 'dN' is not defined"
     ]
    }
   ],
   "source": [
    "(- np.maximum((1 / dN - 1 / delta), 0) * nN[..., None]).shape"
   ]
  },
  {
   "cell_type": "code",
   "execution_count": 103,
   "metadata": {},
   "outputs": [
    {
     "data": {
      "text/plain": [
       "(3, 2)"
      ]
     },
     "execution_count": 103,
     "metadata": {},
     "output_type": "execute_result"
    }
   ],
   "source": [
    "((- np.maximum((1 / dN - 1 / delta), 0) * nN[..., None]).T * np.maximum(np.dot((V / Vnorm).T, nN[..., None]), 0)).shape"
   ]
  },
  {
   "cell_type": "code",
   "execution_count": 104,
   "metadata": {},
   "outputs": [
    {
     "data": {
      "text/plain": [
       "array([[-0., -0., -0.],\n",
       "       [-0., -0., -0.]])"
      ]
     },
     "execution_count": 104,
     "metadata": {},
     "output_type": "execute_result"
    }
   ],
   "source": [
    "((- np.maximum((1 / dN - 1 / delta), 0) * nN[..., None]).T * np.maximum(np.dot((V / Vnorm).T, nN[..., None]), 0)).T / 10"
   ]
  },
  {
   "cell_type": "code",
   "execution_count": 22,
   "metadata": {},
   "outputs": [
    {
     "data": {
      "text/plain": [
       "array([0.1, 0.1, 1. ])"
      ]
     },
     "execution_count": 22,
     "metadata": {},
     "output_type": "execute_result"
    }
   ],
   "source": [
    "Vnorm"
   ]
  },
  {
   "cell_type": "code",
   "execution_count": 33,
   "metadata": {},
   "outputs": [],
   "source": [
    "V = np.random.uniform(-1, 1, (2, 5))"
   ]
  },
  {
   "cell_type": "code",
   "execution_count": 35,
   "metadata": {},
   "outputs": [],
   "source": [
    "Vnorm = np.linalg.norm(V, axis=0)"
   ]
  },
  {
   "cell_type": "code",
   "execution_count": 37,
   "metadata": {},
   "outputs": [
    {
     "data": {
      "text/plain": [
       "array([1., 1., 1., 1., 1.])"
      ]
     },
     "execution_count": 37,
     "metadata": {},
     "output_type": "execute_result"
    }
   ],
   "source": [
    "V/Vnorm"
   ]
  },
  {
   "cell_type": "code",
   "execution_count": null,
   "metadata": {},
   "outputs": [],
   "source": []
  }
 ],
 "metadata": {
  "kernelspec": {
   "display_name": "spyder",
   "language": "python",
   "name": "python3"
  },
  "language_info": {
   "codemirror_mode": {
    "name": "ipython",
    "version": 3
   },
   "file_extension": ".py",
   "mimetype": "text/x-python",
   "name": "python",
   "nbconvert_exporter": "python",
   "pygments_lexer": "ipython3",
   "version": "3.11.0"
  },
  "orig_nbformat": 4
 },
 "nbformat": 4,
 "nbformat_minor": 2
}
